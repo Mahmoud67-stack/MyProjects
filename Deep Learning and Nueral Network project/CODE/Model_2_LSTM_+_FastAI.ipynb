{
  "cells": [
    {
      "cell_type": "code",
      "execution_count": null,
      "metadata": {
        "colab": {
          "base_uri": "https://localhost:8080/"
        },
        "id": "D8M_9KPB7-p7",
        "outputId": "6dc7a4fa-dcf5-42f6-e220-3fd075021933"
      },
      "outputs": [
        {
          "output_type": "stream",
          "name": "stdout",
          "text": [
            "Mounted at /content/drive\n"
          ]
        }
      ],
      "source": [
        "from google.colab import drive\n",
        "drive.mount('/content/drive')"
      ]
    },
    {
      "cell_type": "code",
      "execution_count": null,
      "metadata": {
        "id": "g8smHaYE5NjS"
      },
      "outputs": [],
      "source": [
        "import re\n",
        "import csv\n",
        "import tweepy # https://github.com/tweepy/tweepy\n",
        "import numpy as np\n",
        "import pandas as pd\n",
        "import configparser"
      ]
    },
    {
      "cell_type": "code",
      "execution_count": null,
      "metadata": {
        "id": "38CtxbJR8E3x"
      },
      "outputs": [],
      "source": [
        "Handler = 'elonmusk'\n",
        "path = 'drive/MyDrive/Colab Notebooks/COE494_Project'"
      ]
    },
    {
      "cell_type": "code",
      "execution_count": null,
      "metadata": {
        "id": "Xa0hXyXe76I7"
      },
      "outputs": [],
      "source": [
        "def authenticate(path = 'drive/MyDrive/Colab Notebooks/COE494_Project/'):\n",
        "  # read config\n",
        "  config = configparser.ConfigParser()\n",
        "  config.read(path + 'config.ini')\n",
        "\n",
        "  api_key = str(config['twitter']['api_key'])\n",
        "  api_key_secret = str(config['twitter']['api_key_secret'])\n",
        "\n",
        "  access_token = str(config['twitter']['access_token'])\n",
        "  access_token_secret = str(config['twitter']['access_token_secret'])\n",
        "\n",
        "  # authenticate\n",
        "  auth = tweepy.OAuthHandler(api_key, api_key_secret)\n",
        "  auth.set_access_token(access_token, access_token_secret)\n",
        "\n",
        "  return tweepy.API(auth, wait_on_rate_limit = True)"
      ]
    },
    {
      "cell_type": "code",
      "execution_count": null,
      "metadata": {
        "id": "WhMor-Av-oVv"
      },
      "outputs": [],
      "source": [
        "api = authenticate()"
      ]
    },
    {
      "cell_type": "code",
      "execution_count": null,
      "metadata": {
        "id": "vqsKbwJLGq_D"
      },
      "outputs": [],
      "source": [
        "# Tweet text pre-processing\n",
        "def clean_tweet(tweet):\n",
        "    stopwords = [\"for\", \"on\", \"an\", \"a\", \"of\", \"and\", \"in\", \"the\", \"to\", \"from\"]\n",
        "    if type(tweet) == float:\n",
        "        return \"\"\n",
        "    temp = tweet.lower()\n",
        "    temp = re.sub(\"'\", \"\", temp) # to avoid removing contractions in english\n",
        "    temp = re.sub(\"@[A-Za-z0-9_]+\",\"\", temp)\n",
        "    temp = re.sub(\"#[A-Za-z0-9_]+\",\"\", temp)\n",
        "    temp = re.sub(r'http\\S+', '', temp)\n",
        "    temp = re.sub('[()!?]', ' ', temp)\n",
        "    temp = re.sub('\\[.*?\\]',' ', temp)\n",
        "    temp = re.sub(\"[^a-z0-9]\",\" \", temp)\n",
        "    temp = temp.split()\n",
        "    temp = [w for w in temp if not w in stopwords]\n",
        "    temp = \" \".join(word for word in temp)\n",
        "    return temp"
      ]
    },
    {
      "cell_type": "code",
      "execution_count": null,
      "metadata": {
        "id": "glkVV-wN5UF4"
      },
      "outputs": [],
      "source": [
        "def get_all_tweets(handler):\n",
        "    # Twitter only allows access to a users most recent 3240 tweets with this method\n",
        "    print(f'Grabbing @{handler}\\'s Tweets')\n",
        "    #initialize a list to hold all the tweepy Tweets\n",
        "    all_tweets = []  \n",
        "    \n",
        "    # make initial request for most recent tweets (200 is the maximum allowed count)\n",
        "    new_tweets = api.user_timeline(screen_name = handler, count = 200, include_rts = False, tweet_mode = 'extended')\n",
        "    \n",
        "    # save most recent tweets\n",
        "    all_tweets.extend(new_tweets)\n",
        "    \n",
        "    # save the id of the oldest tweet less one\n",
        "    oldest = all_tweets[-1].id - 1\n",
        "    \n",
        "    # keep grabbing tweets until there are no tweets left to grab\n",
        "    while len(new_tweets) > 0:        \n",
        "        # all subsiquent requests use the max_id param to prevent duplicates\n",
        "        new_tweets = api.user_timeline(screen_name = handler, count = 200, max_id = oldest, include_rts = False, tweet_mode = 'extended')\n",
        "        # save most recent tweets\n",
        "        all_tweets.extend(new_tweets)        \n",
        "        # update the id of the oldest tweet less one\n",
        "        oldest = all_tweets[-1].id - 1\n",
        "        \n",
        "    print(f\"{len(all_tweets)} tweets downloaded...\")    \n",
        "    # transform the tweepy tweets into a 2D array that will populate the csv \n",
        "    out_tweets = [[tweet.id_str, tweet.created_at, tweet.full_text] for tweet in all_tweets]\n",
        "    df = pd.DataFrame (out_tweets, columns = [\"id\", \"time\", \"tweet\"])\n",
        "    df.to_csv(path + '/data/' + handler+'.csv')\n",
        "    return df"
      ]
    },
    {
      "cell_type": "code",
      "execution_count": null,
      "metadata": {
        "colab": {
          "base_uri": "https://localhost:8080/"
        },
        "id": "hiqa6IyV5UIQ",
        "outputId": "e9ebe66c-1131-49b1-9b9f-6a53b583f74a"
      },
      "outputs": [
        {
          "output_type": "stream",
          "name": "stderr",
          "text": [
            "/usr/local/lib/python3.7/dist-packages/IPython/core/interactiveshell.py:2882: DtypeWarning: Columns (2,4,9,14,16,17,19,22,24,25,26,31,33) have mixed types.Specify dtype option on import or set low_memory=False.\n",
            "  exec(code_obj, self.user_global_ns, self.user_ns)\n"
          ]
        }
      ],
      "source": [
        "# tweets = get_all_tweets(Handler)\n",
        "tweets = pd.read_csv(path + \"/data/\" + Handler + \".csv\")\n",
        "cleaned_tweets = pd.DataFrame([clean_tweet(tweet) for tweet in tweets.tweet], columns = ['tweet'])"
      ]
    },
    {
      "cell_type": "code",
      "execution_count": null,
      "metadata": {
        "colab": {
          "base_uri": "https://localhost:8080/",
          "height": 423
        },
        "id": "_0rMIiyh5UKT",
        "outputId": "4d80b2ca-7eb7-4b91-c57d-1446b847536f"
      },
      "outputs": [
        {
          "output_type": "execute_result",
          "data": {
            "text/plain": [
              "                                                   tweet\n",
              "0      please ignore prior tweets as that was someone...\n",
              "1                                                so true\n",
              "2      if you ever wanted know real truth about moon ...\n",
              "3      walked around neighborhood recently rebuilt wi...\n",
              "4      it was xmas so we brought presents kids at orp...\n",
              "...                                                  ...\n",
              "34870  reminds me when i hex edited ultima v get out ...\n",
              "34871                                    yay switzerland\n",
              "34872  there is no way be touch with voters when you ...\n",
              "34874                     let s make roaring 20 s happen\n",
              "34875                 great work by tesla team worldwide\n",
              "\n",
              "[33624 rows x 1 columns]"
            ],
            "text/html": [
              "\n",
              "  <div id=\"df-77e75100-8ec8-46a5-990b-e332e46ef71a\">\n",
              "    <div class=\"colab-df-container\">\n",
              "      <div>\n",
              "<style scoped>\n",
              "    .dataframe tbody tr th:only-of-type {\n",
              "        vertical-align: middle;\n",
              "    }\n",
              "\n",
              "    .dataframe tbody tr th {\n",
              "        vertical-align: top;\n",
              "    }\n",
              "\n",
              "    .dataframe thead th {\n",
              "        text-align: right;\n",
              "    }\n",
              "</style>\n",
              "<table border=\"1\" class=\"dataframe\">\n",
              "  <thead>\n",
              "    <tr style=\"text-align: right;\">\n",
              "      <th></th>\n",
              "      <th>tweet</th>\n",
              "    </tr>\n",
              "  </thead>\n",
              "  <tbody>\n",
              "    <tr>\n",
              "      <th>0</th>\n",
              "      <td>please ignore prior tweets as that was someone...</td>\n",
              "    </tr>\n",
              "    <tr>\n",
              "      <th>1</th>\n",
              "      <td>so true</td>\n",
              "    </tr>\n",
              "    <tr>\n",
              "      <th>2</th>\n",
              "      <td>if you ever wanted know real truth about moon ...</td>\n",
              "    </tr>\n",
              "    <tr>\n",
              "      <th>3</th>\n",
              "      <td>walked around neighborhood recently rebuilt wi...</td>\n",
              "    </tr>\n",
              "    <tr>\n",
              "      <th>4</th>\n",
              "      <td>it was xmas so we brought presents kids at orp...</td>\n",
              "    </tr>\n",
              "    <tr>\n",
              "      <th>...</th>\n",
              "      <td>...</td>\n",
              "    </tr>\n",
              "    <tr>\n",
              "      <th>34870</th>\n",
              "      <td>reminds me when i hex edited ultima v get out ...</td>\n",
              "    </tr>\n",
              "    <tr>\n",
              "      <th>34871</th>\n",
              "      <td>yay switzerland</td>\n",
              "    </tr>\n",
              "    <tr>\n",
              "      <th>34872</th>\n",
              "      <td>there is no way be touch with voters when you ...</td>\n",
              "    </tr>\n",
              "    <tr>\n",
              "      <th>34874</th>\n",
              "      <td>let s make roaring 20 s happen</td>\n",
              "    </tr>\n",
              "    <tr>\n",
              "      <th>34875</th>\n",
              "      <td>great work by tesla team worldwide</td>\n",
              "    </tr>\n",
              "  </tbody>\n",
              "</table>\n",
              "<p>33624 rows × 1 columns</p>\n",
              "</div>\n",
              "      <button class=\"colab-df-convert\" onclick=\"convertToInteractive('df-77e75100-8ec8-46a5-990b-e332e46ef71a')\"\n",
              "              title=\"Convert this dataframe to an interactive table.\"\n",
              "              style=\"display:none;\">\n",
              "        \n",
              "  <svg xmlns=\"http://www.w3.org/2000/svg\" height=\"24px\"viewBox=\"0 0 24 24\"\n",
              "       width=\"24px\">\n",
              "    <path d=\"M0 0h24v24H0V0z\" fill=\"none\"/>\n",
              "    <path d=\"M18.56 5.44l.94 2.06.94-2.06 2.06-.94-2.06-.94-.94-2.06-.94 2.06-2.06.94zm-11 1L8.5 8.5l.94-2.06 2.06-.94-2.06-.94L8.5 2.5l-.94 2.06-2.06.94zm10 10l.94 2.06.94-2.06 2.06-.94-2.06-.94-.94-2.06-.94 2.06-2.06.94z\"/><path d=\"M17.41 7.96l-1.37-1.37c-.4-.4-.92-.59-1.43-.59-.52 0-1.04.2-1.43.59L10.3 9.45l-7.72 7.72c-.78.78-.78 2.05 0 2.83L4 21.41c.39.39.9.59 1.41.59.51 0 1.02-.2 1.41-.59l7.78-7.78 2.81-2.81c.8-.78.8-2.07 0-2.86zM5.41 20L4 18.59l7.72-7.72 1.47 1.35L5.41 20z\"/>\n",
              "  </svg>\n",
              "      </button>\n",
              "      \n",
              "  <style>\n",
              "    .colab-df-container {\n",
              "      display:flex;\n",
              "      flex-wrap:wrap;\n",
              "      gap: 12px;\n",
              "    }\n",
              "\n",
              "    .colab-df-convert {\n",
              "      background-color: #E8F0FE;\n",
              "      border: none;\n",
              "      border-radius: 50%;\n",
              "      cursor: pointer;\n",
              "      display: none;\n",
              "      fill: #1967D2;\n",
              "      height: 32px;\n",
              "      padding: 0 0 0 0;\n",
              "      width: 32px;\n",
              "    }\n",
              "\n",
              "    .colab-df-convert:hover {\n",
              "      background-color: #E2EBFA;\n",
              "      box-shadow: 0px 1px 2px rgba(60, 64, 67, 0.3), 0px 1px 3px 1px rgba(60, 64, 67, 0.15);\n",
              "      fill: #174EA6;\n",
              "    }\n",
              "\n",
              "    [theme=dark] .colab-df-convert {\n",
              "      background-color: #3B4455;\n",
              "      fill: #D2E3FC;\n",
              "    }\n",
              "\n",
              "    [theme=dark] .colab-df-convert:hover {\n",
              "      background-color: #434B5C;\n",
              "      box-shadow: 0px 1px 3px 1px rgba(0, 0, 0, 0.15);\n",
              "      filter: drop-shadow(0px 1px 2px rgba(0, 0, 0, 0.3));\n",
              "      fill: #FFFFFF;\n",
              "    }\n",
              "  </style>\n",
              "\n",
              "      <script>\n",
              "        const buttonEl =\n",
              "          document.querySelector('#df-77e75100-8ec8-46a5-990b-e332e46ef71a button.colab-df-convert');\n",
              "        buttonEl.style.display =\n",
              "          google.colab.kernel.accessAllowed ? 'block' : 'none';\n",
              "\n",
              "        async function convertToInteractive(key) {\n",
              "          const element = document.querySelector('#df-77e75100-8ec8-46a5-990b-e332e46ef71a');\n",
              "          const dataTable =\n",
              "            await google.colab.kernel.invokeFunction('convertToInteractive',\n",
              "                                                     [key], {});\n",
              "          if (!dataTable) return;\n",
              "\n",
              "          const docLinkHtml = 'Like what you see? Visit the ' +\n",
              "            '<a target=\"_blank\" href=https://colab.research.google.com/notebooks/data_table.ipynb>data table notebook</a>'\n",
              "            + ' to learn more about interactive tables.';\n",
              "          element.innerHTML = '';\n",
              "          dataTable['output_type'] = 'display_data';\n",
              "          await google.colab.output.renderOutput(dataTable, element);\n",
              "          const docLink = document.createElement('div');\n",
              "          docLink.innerHTML = docLinkHtml;\n",
              "          element.appendChild(docLink);\n",
              "        }\n",
              "      </script>\n",
              "    </div>\n",
              "  </div>\n",
              "  "
            ]
          },
          "metadata": {},
          "execution_count": 9
        }
      ],
      "source": [
        "# Removing null and empty rows \n",
        "cleaned_tweets.tweet.replace('', np.nan, inplace=True)\n",
        "cleaned_tweets.dropna(inplace = True)\n",
        "cleaned_tweets"
      ]
    },
    {
      "cell_type": "code",
      "execution_count": null,
      "metadata": {
        "id": "tvBt2wXe5UMv"
      },
      "outputs": [],
      "source": [
        "from fastai.text import *"
      ]
    },
    {
      "cell_type": "code",
      "execution_count": null,
      "metadata": {
        "colab": {
          "base_uri": "https://localhost:8080/",
          "height": 487
        },
        "id": "Jm-XuDi-5UPS",
        "outputId": "3a51a815-f4e2-4381-88d5-aa5750464c39"
      },
      "outputs": [
        {
          "output_type": "display_data",
          "data": {
            "text/plain": [
              "<IPython.core.display.HTML object>"
            ],
            "text/html": [
              "\n",
              "<style>\n",
              "    /* Turns off some styling */\n",
              "    progress {\n",
              "        /* gets rid of default border in Firefox and Opera. */\n",
              "        border: none;\n",
              "        /* Needs to be in here for Safari polyfill so background images work as expected. */\n",
              "        background-size: auto;\n",
              "    }\n",
              "    .progress-bar-interrupted, .progress-bar-interrupted::-webkit-progress-bar {\n",
              "        background: #F44336;\n",
              "    }\n",
              "</style>\n"
            ]
          },
          "metadata": {}
        },
        {
          "output_type": "display_data",
          "data": {
            "text/plain": [
              "<IPython.core.display.HTML object>"
            ],
            "text/html": [
              ""
            ]
          },
          "metadata": {}
        },
        {
          "output_type": "stream",
          "name": "stderr",
          "text": [
            "/usr/local/lib/python3.7/dist-packages/fastai/core.py:302: VisibleDeprecationWarning: Creating an ndarray from ragged nested sequences (which is a list-or-tuple of lists-or-tuples-or ndarrays with different lengths or shapes) is deprecated. If you meant to do this, you must specify 'dtype=object' when creating the ndarray.\n",
            "  return np.array(a, dtype=dtype, **kwargs)\n"
          ]
        },
        {
          "output_type": "display_data",
          "data": {
            "text/plain": [
              "<IPython.core.display.HTML object>"
            ],
            "text/html": [
              "\n",
              "<style>\n",
              "    /* Turns off some styling */\n",
              "    progress {\n",
              "        /* gets rid of default border in Firefox and Opera. */\n",
              "        border: none;\n",
              "        /* Needs to be in here for Safari polyfill so background images work as expected. */\n",
              "        background-size: auto;\n",
              "    }\n",
              "    .progress-bar-interrupted, .progress-bar-interrupted::-webkit-progress-bar {\n",
              "        background: #F44336;\n",
              "    }\n",
              "</style>\n"
            ]
          },
          "metadata": {}
        },
        {
          "output_type": "display_data",
          "data": {
            "text/plain": [
              "<IPython.core.display.HTML object>"
            ],
            "text/html": [
              ""
            ]
          },
          "metadata": {}
        },
        {
          "output_type": "display_data",
          "data": {
            "text/plain": [
              "<IPython.core.display.HTML object>"
            ],
            "text/html": [
              "<table border=\"1\" class=\"dataframe\">\n",
              "  <thead>\n",
              "    <tr style=\"text-align: right;\">\n",
              "      <th>idx</th>\n",
              "      <th>text</th>\n",
              "    </tr>\n",
              "  </thead>\n",
              "  <tbody>\n",
              "    <tr>\n",
              "      <td>0</td>\n",
              "      <td>justice i support them would recommend others do too xxbos just returned trip haiti covered lot ground saw many tough situations they need lot help xxbos single character tweets are ulitmate extension twitmeme xxbos i xxbos russians are having some challenges with their rockets too many engineers that designed them have retired xxbos we had long interesting conversation many subjects he has exciting ideas extending his creative talents beyond music</td>\n",
              "    </tr>\n",
              "    <tr>\n",
              "      <td>1</td>\n",
              "      <td>xxbos interesting piece xxbos auto dealer sterling mccall makes case tesla direct sales texas xxbos congrats supersonic test flight xxbos first test falcon 9 r reusable ignition system not long now before hold down fire xxbos am good public transit la but pace that construction makes 405 look fast xxbos this argument is bit silly city will not grow infinite size just because there is nt traffic xxbos cool thanks</td>\n",
              "    </tr>\n",
              "    <tr>\n",
              "      <td>2</td>\n",
              "      <td>graphite story beyond ridiculous xxbos yes i m confident that tesla will do something with them xxbos well now that satoshi nakamoto has been discovered i guess it is case closed xxbos just discovered great tesla ad made by 2 recent college grads i love it xxbos new jersey auto dealers subverting democratic process try block tesla sales xxbos interesting physicist proposes new type computing at sxsw check out orbital</td>\n",
              "    </tr>\n",
              "    <tr>\n",
              "      <td>3</td>\n",
              "      <td>looks good xxbos t minus five minutes flame xxbos flight computer aborted rocket hold down firing anomaly addressed cycling systems countdown xxbos am excited announce that solarcity has filed ipo mission is bring affordable solar power people xxbos just confirmed with that may 7th is go launch falcon 9 amp dragon space station xxbos am pushing launch back approx week do more testing dragon docking code new date pending coordination</td>\n",
              "    </tr>\n",
              "    <tr>\n",
              "      <td>4</td>\n",
              "      <td>yes xxbos live video feed launch at xxbos about hour away launch i d like thank taking chance we ve given it our all xxbos cool xxbos i agree will be restored shortly xxbos it was fixed this weekend so he should try test again xxbos writer this article had problem with his 12v battery so main pack was constantly charging it xxbos german govt reviews tesla model s fires</td>\n",
              "    </tr>\n",
              "  </tbody>\n",
              "</table>"
            ]
          },
          "metadata": {}
        }
      ],
      "source": [
        "data = TextList.from_df(cleaned_tweets, cols='tweet').split_by_rand_pct(0.1).label_for_lm().databunch(bs = 48)\n",
        "\n",
        "data.show_batch()"
      ]
    },
    {
      "cell_type": "code",
      "execution_count": null,
      "metadata": {
        "colab": {
          "base_uri": "https://localhost:8080/",
          "height": 896
        },
        "id": "Yo2OXra7YeB1",
        "outputId": "c3e55e96-f31c-4521-f7c8-76ba0779636c"
      },
      "outputs": [
        {
          "output_type": "stream",
          "name": "stdout",
          "text": [
            "Downloading https://s3.amazonaws.com/fast-ai-modelzoo/wt103-fwd.tgz\n"
          ]
        },
        {
          "output_type": "display_data",
          "data": {
            "text/plain": [
              "<IPython.core.display.HTML object>"
            ],
            "text/html": [
              "\n",
              "<style>\n",
              "    /* Turns off some styling */\n",
              "    progress {\n",
              "        /* gets rid of default border in Firefox and Opera. */\n",
              "        border: none;\n",
              "        /* Needs to be in here for Safari polyfill so background images work as expected. */\n",
              "        background-size: auto;\n",
              "    }\n",
              "    .progress-bar-interrupted, .progress-bar-interrupted::-webkit-progress-bar {\n",
              "        background: #F44336;\n",
              "    }\n",
              "</style>\n"
            ]
          },
          "metadata": {}
        },
        {
          "output_type": "display_data",
          "data": {
            "text/plain": [
              "<IPython.core.display.HTML object>"
            ],
            "text/html": [
              ""
            ]
          },
          "metadata": {}
        },
        {
          "output_type": "display_data",
          "data": {
            "text/plain": [
              "<IPython.core.display.HTML object>"
            ],
            "text/html": [
              "\n",
              "<style>\n",
              "    /* Turns off some styling */\n",
              "    progress {\n",
              "        /* gets rid of default border in Firefox and Opera. */\n",
              "        border: none;\n",
              "        /* Needs to be in here for Safari polyfill so background images work as expected. */\n",
              "        background-size: auto;\n",
              "    }\n",
              "    .progress-bar-interrupted, .progress-bar-interrupted::-webkit-progress-bar {\n",
              "        background: #F44336;\n",
              "    }\n",
              "</style>\n"
            ]
          },
          "metadata": {}
        },
        {
          "output_type": "display_data",
          "data": {
            "text/plain": [
              "<IPython.core.display.HTML object>"
            ],
            "text/html": [
              "\n",
              "    <div>\n",
              "      <progress value='0' class='' max='1' style='width:300px; height:20px; vertical-align: middle;'></progress>\n",
              "      0.00% [0/1 00:00<00:00]\n",
              "    </div>\n",
              "    \n",
              "<table border=\"1\" class=\"dataframe\">\n",
              "  <thead>\n",
              "    <tr style=\"text-align: left;\">\n",
              "      <th>epoch</th>\n",
              "      <th>train_loss</th>\n",
              "      <th>valid_loss</th>\n",
              "      <th>accuracy</th>\n",
              "      <th>time</th>\n",
              "    </tr>\n",
              "  </thead>\n",
              "  <tbody>\n",
              "  </tbody>\n",
              "</table><p>\n",
              "\n",
              "    <div>\n",
              "      <progress value='99' class='' max='113' style='width:300px; height:20px; vertical-align: middle;'></progress>\n",
              "      87.61% [99/113 00:13<00:01 12.6944]\n",
              "    </div>\n",
              "    "
            ]
          },
          "metadata": {}
        },
        {
          "output_type": "stream",
          "name": "stdout",
          "text": [
            "LR Finder is complete, type {learner_name}.recorder.plot() to see the graph.\n"
          ]
        },
        {
          "output_type": "display_data",
          "data": {
            "text/plain": [
              "<IPython.core.display.HTML object>"
            ],
            "text/html": [
              "\n",
              "<style>\n",
              "    /* Turns off some styling */\n",
              "    progress {\n",
              "        /* gets rid of default border in Firefox and Opera. */\n",
              "        border: none;\n",
              "        /* Needs to be in here for Safari polyfill so background images work as expected. */\n",
              "        background-size: auto;\n",
              "    }\n",
              "    .progress-bar-interrupted, .progress-bar-interrupted::-webkit-progress-bar {\n",
              "        background: #F44336;\n",
              "    }\n",
              "</style>\n"
            ]
          },
          "metadata": {}
        },
        {
          "output_type": "display_data",
          "data": {
            "text/plain": [
              "<IPython.core.display.HTML object>"
            ],
            "text/html": [
              "<table border=\"1\" class=\"dataframe\">\n",
              "  <thead>\n",
              "    <tr style=\"text-align: left;\">\n",
              "      <th>epoch</th>\n",
              "      <th>train_loss</th>\n",
              "      <th>valid_loss</th>\n",
              "      <th>accuracy</th>\n",
              "      <th>time</th>\n",
              "    </tr>\n",
              "  </thead>\n",
              "  <tbody>\n",
              "    <tr>\n",
              "      <td>0</td>\n",
              "      <td>7.126532</td>\n",
              "      <td>6.450367</td>\n",
              "      <td>0.091644</td>\n",
              "      <td>00:16</td>\n",
              "    </tr>\n",
              "    <tr>\n",
              "      <td>1</td>\n",
              "      <td>5.992862</td>\n",
              "      <td>5.439669</td>\n",
              "      <td>0.169826</td>\n",
              "      <td>00:16</td>\n",
              "    </tr>\n",
              "    <tr>\n",
              "      <td>2</td>\n",
              "      <td>5.045690</td>\n",
              "      <td>4.635789</td>\n",
              "      <td>0.247527</td>\n",
              "      <td>00:16</td>\n",
              "    </tr>\n",
              "    <tr>\n",
              "      <td>3</td>\n",
              "      <td>4.232103</td>\n",
              "      <td>4.035997</td>\n",
              "      <td>0.322505</td>\n",
              "      <td>00:16</td>\n",
              "    </tr>\n",
              "    <tr>\n",
              "      <td>4</td>\n",
              "      <td>3.621923</td>\n",
              "      <td>3.656027</td>\n",
              "      <td>0.383425</td>\n",
              "      <td>00:16</td>\n",
              "    </tr>\n",
              "    <tr>\n",
              "      <td>5</td>\n",
              "      <td>3.235579</td>\n",
              "      <td>3.394858</td>\n",
              "      <td>0.426419</td>\n",
              "      <td>00:16</td>\n",
              "    </tr>\n",
              "    <tr>\n",
              "      <td>6</td>\n",
              "      <td>2.955895</td>\n",
              "      <td>3.226457</td>\n",
              "      <td>0.458974</td>\n",
              "      <td>00:16</td>\n",
              "    </tr>\n",
              "    <tr>\n",
              "      <td>7</td>\n",
              "      <td>2.754827</td>\n",
              "      <td>3.106467</td>\n",
              "      <td>0.480975</td>\n",
              "      <td>00:16</td>\n",
              "    </tr>\n",
              "    <tr>\n",
              "      <td>8</td>\n",
              "      <td>2.601648</td>\n",
              "      <td>3.009402</td>\n",
              "      <td>0.499336</td>\n",
              "      <td>00:16</td>\n",
              "    </tr>\n",
              "    <tr>\n",
              "      <td>9</td>\n",
              "      <td>2.464247</td>\n",
              "      <td>2.931408</td>\n",
              "      <td>0.515545</td>\n",
              "      <td>00:16</td>\n",
              "    </tr>\n",
              "    <tr>\n",
              "      <td>10</td>\n",
              "      <td>2.386728</td>\n",
              "      <td>2.883821</td>\n",
              "      <td>0.524977</td>\n",
              "      <td>00:16</td>\n",
              "    </tr>\n",
              "    <tr>\n",
              "      <td>11</td>\n",
              "      <td>2.297764</td>\n",
              "      <td>2.853002</td>\n",
              "      <td>0.530563</td>\n",
              "      <td>00:16</td>\n",
              "    </tr>\n",
              "    <tr>\n",
              "      <td>12</td>\n",
              "      <td>2.241031</td>\n",
              "      <td>2.832993</td>\n",
              "      <td>0.535348</td>\n",
              "      <td>00:16</td>\n",
              "    </tr>\n",
              "    <tr>\n",
              "      <td>13</td>\n",
              "      <td>2.233994</td>\n",
              "      <td>2.824142</td>\n",
              "      <td>0.536264</td>\n",
              "      <td>00:16</td>\n",
              "    </tr>\n",
              "    <tr>\n",
              "      <td>14</td>\n",
              "      <td>2.206549</td>\n",
              "      <td>2.823349</td>\n",
              "      <td>0.536630</td>\n",
              "      <td>00:16</td>\n",
              "    </tr>\n",
              "  </tbody>\n",
              "</table>"
            ]
          },
          "metadata": {}
        },
        {
          "output_type": "display_data",
          "data": {
            "text/plain": [
              "<Figure size 432x288 with 1 Axes>"
            ],
            "image/png": "[encoded data removed]"
          },
          "metadata": {
            "needs_background": "light"
          }
        }
      ],
      "source": [
        "# Create deep learning model\n",
        "learn = language_model_learner(data, AWD_LSTM, drop_mult = 0.3, model_dir = '/tmp/work')\n",
        "\n",
        "# select the appropriate learning rate\n",
        "learn.lr_find()\n",
        "\n",
        "# we typically find the point where the slope is steepest\n",
        "learn.recorder.plot(skip_end = 15)\n",
        "\n",
        "# Fit the model based on selected learning rate\n",
        "learn.fit_one_cycle(15, 1e-2, moms = (0.8, 0.7))"
      ]
    },
    {
      "cell_type": "code",
      "execution_count": null,
      "metadata": {
        "colab": {
          "base_uri": "https://localhost:8080/"
        },
        "id": "iS4yVY1D5E2U",
        "outputId": "2c462de6-db05-4734-b8ee-57989b9df08a"
      },
      "outputs": [
        {
          "output_type": "execute_result",
          "data": {
            "text/plain": [
              "SequentialRNN(\n",
              "  (0): AWD_LSTM(\n",
              "    (encoder): Embedding(9112, 400, padding_idx=1)\n",
              "    (encoder_dp): EmbeddingDropout(\n",
              "      (emb): Embedding(9112, 400, padding_idx=1)\n",
              "    )\n",
              "    (rnns): ModuleList(\n",
              "      (0): WeightDropout(\n",
              "        (module): LSTM(400, 1152, batch_first=True)\n",
              "      )\n",
              "      (1): WeightDropout(\n",
              "        (module): LSTM(1152, 1152, batch_first=True)\n",
              "      )\n",
              "      (2): WeightDropout(\n",
              "        (module): LSTM(1152, 400, batch_first=True)\n",
              "      )\n",
              "    )\n",
              "    (input_dp): RNNDropout()\n",
              "    (hidden_dps): ModuleList(\n",
              "      (0): RNNDropout()\n",
              "      (1): RNNDropout()\n",
              "      (2): RNNDropout()\n",
              "    )\n",
              "  )\n",
              "  (1): LinearDecoder(\n",
              "    (decoder): Linear(in_features=400, out_features=9112, bias=True)\n",
              "    (output_dp): RNNDropout()\n",
              "  )\n",
              ")"
            ]
          },
          "metadata": {},
          "execution_count": 13
        }
      ],
      "source": [
        "learn.model"
      ]
    },
    {
      "cell_type": "code",
      "execution_count": null,
      "metadata": {
        "colab": {
          "base_uri": "https://localhost:8080/"
        },
        "id": "vx9FbdWhYeK6",
        "outputId": "1c107833-81b9-4036-8484-d935f075a0da"
      },
      "outputs": [
        {
          "output_type": "stream",
          "name": "stdout",
          "text": [
            "roadster upgrade details xxbos good point xxbos amp xxbos yes when\n"
          ]
        }
      ],
      "source": [
        "# Predict Tweets starting from the given words \n",
        "# Generates random length from the training set\n",
        "\n",
        "## Random Number of words and seed word may be generated, however we are choosing\n",
        "## constant values for comparison sake\n",
        "### N_WORDS = 0\n",
        "### while N_WORDS < 10:\n",
        "###   N_WORDS = len(cleaned_tweets.sample().tweet.item())\n",
        "\n",
        "### seed = cleaned_tweets.sample().tweet.item().split()[0]\n",
        "\n",
        "seed = 'roadster'\n",
        "N_WORDS = 10\n",
        "print(learn.predict(seed, N_WORDS, temperature = 0.75))"
      ]
    },
    {
      "cell_type": "code",
      "source": [
        "seed = 'finally'\n",
        "N_WORDS = 10\n",
        "print(learn.predict(seed, N_WORDS, temperature = 0.75))"
      ],
      "metadata": {
        "colab": {
          "base_uri": "https://localhost:8080/"
        },
        "id": "fQjCMH0ZoCl0",
        "outputId": "a8da1721-15b7-45de-b57e-6e6defda8470"
      },
      "execution_count": null,
      "outputs": [
        {
          "output_type": "stream",
          "name": "stdout",
          "text": [
            "finally xxbos xxbos important problem with all weather 300 km h\n"
          ]
        }
      ]
    }
  ],
  "metadata": {
    "accelerator": "GPU",
    "colab": {
      "collapsed_sections": [],
      "machine_shape": "hm",
      "name": "Model 2 - LSTM + FastAI.ipynb",
      "provenance": []
    },
    "kernelspec": {
      "display_name": "Python 3",
      "name": "python3"
    },
    "language_info": {
      "name": "python"
    }
  },
  "nbformat": 4,
  "nbformat_minor": 0
}