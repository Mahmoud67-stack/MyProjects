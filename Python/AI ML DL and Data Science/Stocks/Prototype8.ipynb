{
  "nbformat": 4,
  "nbformat_minor": 0,
  "metadata": {
    "colab": {
      "name": "Prototype8.ipynb",
      "provenance": []
    },
    "kernelspec": {
      "name": "python3",
      "display_name": "Python 3"
    }
  },
  "cells": [
    {
      "cell_type": "markdown",
      "metadata": {
        "id": "ID5ghM9-K6oz",
        "colab_type": "text"
      },
      "source": [
        "# Importing the libraries"
      ]
    },
    {
      "cell_type": "code",
      "metadata": {
        "id": "xtMXR1S-02iw",
        "colab_type": "code",
        "colab": {}
      },
      "source": [
        "import numpy as np\n",
        "import matplotlib.pyplot as plt\n",
        "import pandas as pd"
      ],
      "execution_count": 1,
      "outputs": []
    },
    {
      "cell_type": "markdown",
      "metadata": {
        "id": "DfAxE2esLBP0",
        "colab_type": "text"
      },
      "source": [
        "# Importing the training set"
      ]
    },
    {
      "cell_type": "code",
      "metadata": {
        "id": "NngzTLCcKHbV",
        "colab_type": "code",
        "colab": {}
      },
      "source": [
        "dataset_train = pd.read_csv('Train.csv')\n",
        "training_set = dataset_train.iloc[:, 1:].values\n"
      ],
      "execution_count": 2,
      "outputs": []
    },
    {
      "cell_type": "markdown",
      "metadata": {
        "id": "BqhMuLPYLKo-",
        "colab_type": "text"
      },
      "source": [
        "# Feature Scaling"
      ]
    },
    {
      "cell_type": "code",
      "metadata": {
        "id": "pQdodDDfLHmo",
        "colab_type": "code",
        "colab": {}
      },
      "source": [
        "from sklearn.preprocessing import MinMaxScaler\n",
        "sc = MinMaxScaler(feature_range = (0,1))\n",
        "training_set_scaled = sc.fit_transform(training_set)"
      ],
      "execution_count": 3,
      "outputs": []
    },
    {
      "cell_type": "markdown",
      "metadata": {
        "id": "zZ0YJSLFMDDE",
        "colab_type": "text"
      },
      "source": [
        "# Creating a data structure with 870 timesteps and 1 output"
      ]
    },
    {
      "cell_type": "code",
      "metadata": {
        "id": "Iv2xgq5MMQWF",
        "colab_type": "code",
        "colab": {}
      },
      "source": [
        "X_train = []\n",
        "y_train = []\n",
        "for i in range(1170, len(training_set)):\n",
        "  X_train.append(training_set_scaled[i-1170:i,:])\n",
        "  y_train.append(training_set_scaled[i, 1])\n",
        "X_train, y_train = np.array(X_train), np.array(y_train)"
      ],
      "execution_count": 4,
      "outputs": []
    },
    {
      "cell_type": "markdown",
      "metadata": {
        "id": "eZnSw5BRGRis",
        "colab_type": "text"
      },
      "source": [
        "# Reshaping"
      ]
    },
    {
      "cell_type": "code",
      "metadata": {
        "id": "eHmodiBxGV-5",
        "colab_type": "code",
        "colab": {}
      },
      "source": [
        "X_train = np.reshape(X_train, (X_train.shape[0], X_train.shape[1], 5))"
      ],
      "execution_count": 5,
      "outputs": []
    },
    {
      "cell_type": "markdown",
      "metadata": {
        "id": "zdBMe7T0Hzmy",
        "colab_type": "text"
      },
      "source": [
        "# Importing the keras libraries and packages"
      ]
    },
    {
      "cell_type": "code",
      "metadata": {
        "id": "N7tM-e4TIEIv",
        "colab_type": "code",
        "colab": {
          "base_uri": "https://localhost:8080/",
          "height": 34
        },
        "outputId": "d0a8d01b-7c0c-4215-b866-d69f9ba14466"
      },
      "source": [
        "from keras.models import Sequential\n",
        "from keras.layers import Dense\n",
        "from keras.layers import LSTM\n",
        "from keras.layers import Dropout"
      ],
      "execution_count": 6,
      "outputs": [
        {
          "output_type": "stream",
          "text": [
            "Using TensorFlow backend.\n"
          ],
          "name": "stderr"
        }
      ]
    },
    {
      "cell_type": "markdown",
      "metadata": {
        "id": "tnxRjHp8IUwQ",
        "colab_type": "text"
      },
      "source": [
        "# Initializing the RNN"
      ]
    },
    {
      "cell_type": "code",
      "metadata": {
        "id": "uTrjwP_OIWqn",
        "colab_type": "code",
        "colab": {}
      },
      "source": [
        "regressor = Sequential()"
      ],
      "execution_count": 7,
      "outputs": []
    },
    {
      "cell_type": "markdown",
      "metadata": {
        "id": "vULChz1BIakS",
        "colab_type": "text"
      },
      "source": [
        "#Adding the first LSTM layer and some Dropout regularisation"
      ]
    },
    {
      "cell_type": "code",
      "metadata": {
        "id": "mEKlyK3nIj12",
        "colab_type": "code",
        "colab": {}
      },
      "source": [
        "regressor.add(LSTM(units = 128, return_sequences = True, input_shape = (X_train.shape[1], 5)))\n",
        "regressor.add(Dropout(0.2))"
      ],
      "execution_count": 8,
      "outputs": []
    },
    {
      "cell_type": "markdown",
      "metadata": {
        "id": "xKYi7l0oI79P",
        "colab_type": "text"
      },
      "source": [
        "#Adding the second LSTM layer and some Dropout regularisation"
      ]
    },
    {
      "cell_type": "code",
      "metadata": {
        "id": "2b-XOIdCI8H1",
        "colab_type": "code",
        "colab": {}
      },
      "source": [
        "regressor.add(LSTM(units = 128, return_sequences = True))\n",
        "regressor.add(Dropout(0.2))"
      ],
      "execution_count": 9,
      "outputs": []
    },
    {
      "cell_type": "markdown",
      "metadata": {
        "id": "bnUKyIP3I8PP",
        "colab_type": "text"
      },
      "source": [
        "# Adding the third LSTM layer and some Dropout regularisation"
      ]
    },
    {
      "cell_type": "code",
      "metadata": {
        "id": "wBTriJwnI8W1",
        "colab_type": "code",
        "colab": {}
      },
      "source": [
        "regressor.add(LSTM(units = 128, return_sequences = True))\n",
        "regressor.add(Dropout(0.2))"
      ],
      "execution_count": 10,
      "outputs": []
    },
    {
      "cell_type": "markdown",
      "metadata": {
        "id": "kSMasUlxJFJ8",
        "colab_type": "text"
      },
      "source": [
        "#Adding the fourth LSTM layer and some Dropout regularisation"
      ]
    },
    {
      "cell_type": "code",
      "metadata": {
        "id": "TYwyylL-JIKo",
        "colab_type": "code",
        "colab": {}
      },
      "source": [
        "regressor.add(LSTM(units = 128, return_sequences = True))\n",
        "regressor.add(Dropout(0.2))"
      ],
      "execution_count": 11,
      "outputs": []
    },
    {
      "cell_type": "markdown",
      "metadata": {
        "id": "y9WAi6DyJIbC",
        "colab_type": "text"
      },
      "source": [
        "#Adding the fifth LSTM layer and some Dropout regularisation"
      ]
    },
    {
      "cell_type": "code",
      "metadata": {
        "id": "7XV564sIJMVO",
        "colab_type": "code",
        "colab": {}
      },
      "source": [
        "regressor.add(LSTM(units = 128))\n",
        "regressor.add(Dropout(0.2))"
      ],
      "execution_count": 12,
      "outputs": []
    },
    {
      "cell_type": "markdown",
      "metadata": {
        "id": "yNBVgNN0JM51",
        "colab_type": "text"
      },
      "source": [
        "#The output layer"
      ]
    },
    {
      "cell_type": "code",
      "metadata": {
        "id": "5PWz2xoWJaO5",
        "colab_type": "code",
        "colab": {}
      },
      "source": [
        "regressor.add(Dense(units = 1))"
      ],
      "execution_count": 13,
      "outputs": []
    },
    {
      "cell_type": "markdown",
      "metadata": {
        "id": "Bo2_25TvKqSj",
        "colab_type": "text"
      },
      "source": [
        "#Compiling the RNN"
      ]
    },
    {
      "cell_type": "code",
      "metadata": {
        "id": "7356swczLAaR",
        "colab_type": "code",
        "colab": {}
      },
      "source": [
        "regressor.compile(optimizer = 'adam', loss = 'mean_squared_error')"
      ],
      "execution_count": null,
      "outputs": []
    },
    {
      "cell_type": "markdown",
      "metadata": {
        "id": "uo-UWj-6Lal_",
        "colab_type": "text"
      },
      "source": [
        "# Fitting the RNN to the Training set"
      ]
    },
    {
      "cell_type": "code",
      "metadata": {
        "id": "8PcpjEL1LqzS",
        "colab_type": "code",
        "colab": {}
      },
      "source": [
        "regressor.fit(X_train, y_train, batch_size = 32, epochs = 200)"
      ],
      "execution_count": null,
      "outputs": []
    },
    {
      "cell_type": "markdown",
      "metadata": {
        "id": "9cDMGMLAMbjU",
        "colab_type": "text"
      },
      "source": [
        "# Getting the real stock price of 22/7/2020"
      ]
    },
    {
      "cell_type": "code",
      "metadata": {
        "id": "b5uDdhvqMlp6",
        "colab_type": "code",
        "colab": {}
      },
      "source": [
        "dataset_test = pd.read_csv('Test.csv')\n",
        "real_open_price = dataset_test.iloc[:, 1].values"
      ],
      "execution_count": null,
      "outputs": []
    },
    {
      "cell_type": "markdown",
      "metadata": {
        "id": "Hw__b9RwM8j2",
        "colab_type": "text"
      },
      "source": [
        "# Getting the predicted stock prices of 22/7/2020"
      ]
    },
    {
      "cell_type": "code",
      "metadata": {
        "id": "NSpG4OT7M7Q9",
        "colab_type": "code",
        "colab": {}
      },
      "source": [
        "dataset_total = pd.concat((dataset_train['Close', 'Open', 'High', 'Low', 'Volume'], dataset_test['Close', 'Open', 'High', 'Low', 'Volume']), axis = 0)\n",
        "inputs = dataset_total[len(dataset_total)-len(dataset_test)-1170:].values\n",
        "inputs = inputs.reshape(-1,1)\n",
        "inputs = sc.transform(inputs)\n",
        "X_test = []\n",
        "for i in range(1170, 1560):\n",
        "  X_test.append(inputs[i-1170:i,:])\n",
        "X_test = np.array(X_test)\n",
        "X_test = np.reshape(X_test, (X_test.shape[0], X_test.shape[1], 5))\n",
        "predicted_open_prices = regressor.predict(X_test)\n",
        "predicted_open_prices = sc.inverse_transform(predicted_open_prices)"
      ],
      "execution_count": null,
      "outputs": []
    }
  ]
}